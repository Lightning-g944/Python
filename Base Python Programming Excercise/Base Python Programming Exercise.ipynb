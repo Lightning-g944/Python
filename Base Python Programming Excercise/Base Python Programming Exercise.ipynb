{
 "cells": [
  {
   "cell_type": "markdown",
   "metadata": {},
   "source": [
    "## Python Basic Programming Exercises"
   ]
  },
  {
   "cell_type": "raw",
   "metadata": {},
   "source": [
    "Q1: What is the output of following expression\n",
    "    5 + 4 * 9 % (3 + 1) / 6 - 1"
   ]
  },
  {
   "cell_type": "code",
   "execution_count": 1,
   "metadata": {},
   "outputs": [
    {
     "name": "stdout",
     "output_type": "stream",
     "text": [
      "4.0\n"
     ]
    }
   ],
   "source": [
    "# Saving the value in x.\n",
    "x = 5 + 4 * 9 % (3 + 1) / 6 - 1\n",
    "\n",
    "# Printing the output\n",
    "print(x)"
   ]
  },
  {
   "cell_type": "raw",
   "metadata": {},
   "source": [
    "Q2: Write a program to check if a Number is Odd or Even. Take number as a input from user at runtime."
   ]
  },
  {
   "cell_type": "code",
   "execution_count": 3,
   "metadata": {},
   "outputs": [
    {
     "name": "stdout",
     "output_type": "stream",
     "text": [
      "Enter the number to check if it is Even or Odd :5\n",
      "It is a Odd Number\n"
     ]
    }
   ],
   "source": [
    "# Taking the input from the user and saving in x\n",
    "x = int(input('Enter the number to check if it is Even or Odd :'))\n",
    "\n",
    "# Checking if the number provided by the user is even or odd\n",
    "if x % 2 == 0:\n",
    "    \n",
    "    # It will print if the number is Even\n",
    "    print('It is a Even Number')\n",
    "else:\n",
    "    \n",
    "    # It will print if the number is Even\n",
    "    print('It is a Odd Number')"
   ]
  },
  {
   "cell_type": "raw",
   "metadata": {},
   "source": [
    "Q3: Write a program to display the multiplication table by taking a number as input. \n",
    "    [Hint : Use print statement inside of a loop]"
   ]
  },
  {
   "cell_type": "code",
   "execution_count": 2,
   "metadata": {},
   "outputs": [
    {
     "name": "stdout",
     "output_type": "stream",
     "text": [
      "Enter the Number for its Multiplication table :5\n",
      "5 * 1 = 5\n",
      "5 * 2 = 10\n",
      "5 * 3 = 15\n",
      "5 * 4 = 20\n",
      "5 * 5 = 25\n",
      "5 * 6 = 30\n",
      "5 * 7 = 35\n",
      "5 * 8 = 40\n",
      "5 * 9 = 45\n",
      "5 * 10 = 50\n"
     ]
    }
   ],
   "source": [
    "# Taking the input from the user and saving in x\n",
    "x = int(input('Enter the Number for its Multiplication table :'))\n",
    "\n",
    "# Looping and printing the values until it reachs maximum range\n",
    "for i in range(1,11):\n",
    "    print(x,'*',i,'=',x * i)"
   ]
  },
  {
   "cell_type": "raw",
   "metadata": {},
   "source": [
    "Q4: Write a program which will find all numbers between 2000 and 3200 which are divisible by 7 \n",
    "    but are not a multiple of 5.\n",
    " \n",
    "Note: The numbers obtained should be printed in a comma-separated sequence on a single line."
   ]
  },
  {
   "cell_type": "code",
   "execution_count": 5,
   "metadata": {},
   "outputs": [
    {
     "name": "stdout",
     "output_type": "stream",
     "text": [
      "Printing Numbers which are divisible by 7 between 2000 and 3200\n",
      "\n",
      "\n",
      "[2002, 2009, 2016, 2023, 2037, 2044, 2051, 2058, 2072, 2079, 2086, 2093, 2107, 2114, 2121, 2128, 2142, 2149, 2156, 2163, 2177, 2184, 2191, 2198, 2212, 2219, 2226, 2233, 2247, 2254, 2261, 2268, 2282, 2289, 2296, 2303, 2317, 2324, 2331, 2338, 2352, 2359, 2366, 2373, 2387, 2394, 2401, 2408, 2422, 2429, 2436, 2443, 2457, 2464, 2471, 2478, 2492, 2499, 2506, 2513, 2527, 2534, 2541, 2548, 2562, 2569, 2576, 2583, 2597, 2604, 2611, 2618, 2632, 2639, 2646, 2653, 2667, 2674, 2681, 2688, 2702, 2709, 2716, 2723, 2737, 2744, 2751, 2758, 2772, 2779, 2786, 2793, 2807, 2814, 2821, 2828, 2842, 2849, 2856, 2863, 2877, 2884, 2891, 2898, 2912, 2919, 2926, 2933, 2947, 2954, 2961, 2968, 2982, 2989, 2996, 3003, 3017, 3024, 3031, 3038, 3052, 3059, 3066, 3073, 3087, 3094, 3101, 3108, 3122, 3129, 3136, 3143, 3157, 3164, 3171, 3178, 3192, 3199]\n"
     ]
    }
   ],
   "source": [
    "print('Printing Numbers which are divisible by 7 between 2000 and 3200\\n\\n')\n",
    "\n",
    "# we take the range as 3201 because in 'range' 3200 is excluded\n",
    "# A new list is created when the the number in range meets the condition provided\n",
    "ls = [i for i in range(2000,3201) if i % 7 == 0 and i % 5 != 0]\n",
    "\n",
    "# Printing the list\n",
    "print(ls)"
   ]
  },
  {
   "cell_type": "raw",
   "metadata": {},
   "source": [
    "Q5: Count the elements of each datatype inside the list and display in output\n",
    "    [2, 3, 'Py', '10', 1, 'SQL', 5.5, True, 3, 'John', None, 7]    "
   ]
  },
  {
   "cell_type": "code",
   "execution_count": 39,
   "metadata": {},
   "outputs": [
    {
     "name": "stdout",
     "output_type": "stream",
     "text": [
      "Total Count of Boolean Datatype are :  1\n",
      "Total count of String Datatype are  :  4\n",
      "Total count of Integer Datatype are :  5\n",
      "Total count of Float Datatype are   :  1\n",
      "Total count of None Datatype are    :  1\n"
     ]
    }
   ],
   "source": [
    "# List provided in the question\n",
    "L = [2, 3, 'Py', '10', 1, 'SQL', 5.5, True, 3, 'John', None, 7]\n",
    "\n",
    "#Creates a list with only boolean type\n",
    "B = [i for i in L if type(i) == bool]\n",
    "print('Total Count of Boolean Datatype are : ',len(B))\n",
    "\n",
    "\n",
    "#Creates a List with only String type\n",
    "S = [i for i in L if type(i) == str]\n",
    "print('Total count of String Datatype are  : ',len(S))\n",
    "\n",
    "\n",
    "#Creates a list with only integer type\n",
    "I = [i for i in L if type(i) == int]\n",
    "print('Total count of Integer Datatype are : ',len(I))\n",
    "\n",
    "\n",
    "#Creates a list with only Float type\n",
    "F = [i for i in L if type(i) == float]\n",
    "print('Total count of Float Datatype are   : ',len(F))\n",
    "\n",
    "\n",
    "#Creates a List with only None type\n",
    "N = [i for i in L if type(i) == type(None)]\n",
    "print('Total count of None Datatype are    : ',len(N))"
   ]
  },
  {
   "cell_type": "raw",
   "metadata": {},
   "source": [
    "Q6: Add all values from the list with numeric datatypes \n",
    "    [2, 3, 'Py', '10', 1, 'SQL', 5.5, True, 3, 'John', None, 7] "
   ]
  },
  {
   "cell_type": "code",
   "execution_count": 3,
   "metadata": {},
   "outputs": [
    {
     "name": "stdout",
     "output_type": "stream",
     "text": [
      "21.5\n"
     ]
    }
   ],
   "source": [
    "# List provided in the question\n",
    "List = [2, 3, 'Py', '10', 1, 'SQL', 5.5, True, 3, 'John', None, 7]\n",
    "\n",
    "#Creates a new list Sum to group int data types\n",
    "Sum = [i for i in List if type(i) == int]\n",
    "\n",
    "#Creates a new list Flt to group Float data types\n",
    "Flt = sum([i for i in List if type(i) == float])\n",
    "\n",
    "#Joining both int and float as one list\n",
    "Sum.append(Flt)\n",
    "\n",
    "#adding the values in the list\n",
    "S = sum(Sum)\n",
    "\n",
    "print(S)"
   ]
  },
  {
   "cell_type": "raw",
   "metadata": {},
   "source": [
    "Q7: Concat all str datatypes with hyphen as a delimiter\n",
    "    [2, 3, 'Py', '10', 1, 'SQL', 5.5, True, 3, 'John', None, 7] "
   ]
  },
  {
   "cell_type": "code",
   "execution_count": 53,
   "metadata": {},
   "outputs": [
    {
     "data": {
      "text/plain": [
       "'Py-10-SQL-John'"
      ]
     },
     "execution_count": 53,
     "metadata": {},
     "output_type": "execute_result"
    }
   ],
   "source": [
    "# List provided in the question\n",
    "List = [2, 3, 'Py', '10', 1, 'SQL', 5.5, True, 3, 'John', None, 7]\n",
    "\n",
    "#A new list is created when the given is passed through and \n",
    "Str = [i for i in List if type(i) == str]\n",
    "'-'.join(Str)"
   ]
  },
  {
   "cell_type": "raw",
   "metadata": {},
   "source": [
    "Q8: Write a UDF that takes list as input and returns sum of all numbers \n",
    "    (exclude bool) and count of all str \n",
    "    [2, 3, 'Py', '10', 1, 'SQL', 5.5, True, 3, 'John', None, 7] \n",
    "    \n",
    "Hint:\n",
    "-----\n",
    "def my_func:\n",
    "    # your code\n",
    "        \n",
    "my_func(l1)\n",
    "# output --> {'Sum': xxx, 'Count_of_Strs': xxx}"
   ]
  },
  {
   "cell_type": "code",
   "execution_count": 11,
   "metadata": {},
   "outputs": [
    {
     "name": "stdout",
     "output_type": "stream",
     "text": [
      "Sum :  Py.10.SQL.John Count_of_Strs : 4\n"
     ]
    }
   ],
   "source": [
    "# Defining a Function to count length of String Datatype\n",
    "def Len_Str(List):\n",
    "    Str = [i for i in List if type(i) == str]\n",
    "    return len(Str)\n",
    "\n",
    "# Defining a Function to Concatnate all String Datatype\n",
    "def Sum_Str(List):\n",
    "    Sum = [i for i in List if type(i) == str]\n",
    "    return '.'.join(Sum)\n",
    "\n",
    "# List provided in the question     \n",
    "Li = [2, 3, 'Py', '10', 1, 'SQL', 5.5, True, 3, 'John', None, 7]\n",
    "\n",
    "# Printing the Sum of Strings and Count of strings\n",
    "print('Sum : ',Sum_Str(Li), 'Count_of_Strs :',Len_Str(Li))"
   ]
  },
  {
   "cell_type": "raw",
   "metadata": {},
   "source": [
    "Q9: Get only odd numbers from the following list and store the numbers in new list\n",
    "    li = [5, 7, 22, 97, 54, 62, 77, 23, 73, 61]\n",
    "\n",
    "    i. Use loops to get the answer\n",
    "   ii. Use list comprehensions\n",
    "  iii. Use lambda function with filter"
   ]
  },
  {
   "cell_type": "code",
   "execution_count": 50,
   "metadata": {},
   "outputs": [
    {
     "name": "stdout",
     "output_type": "stream",
     "text": [
      "[5, 7, 97, 77, 23, 73, 61]\n"
     ]
    }
   ],
   "source": [
    "# i. Use loops to get the answer\n",
    "li = [5, 7, 22, 97, 54, 62, 77, 23, 73, 61]\n",
    "\n",
    "a = len(li)\n",
    "i = 0\n",
    "\n",
    "odd = []\n",
    "\n",
    "for i in range(a):\n",
    "    if li[i] % 2 != 0:\n",
    "        odd.append(li[i])\n",
    "print(odd)"
   ]
  },
  {
   "cell_type": "code",
   "execution_count": 12,
   "metadata": {},
   "outputs": [
    {
     "name": "stdout",
     "output_type": "stream",
     "text": [
      "[5, 7, 97, 77, 23, 73, 61]\n"
     ]
    }
   ],
   "source": [
    "# ii. Use list comprehensions\n",
    "\n",
    "li = [5, 7, 22, 97, 54, 62, 77, 23, 73, 61]\n",
    "\n",
    "odd_list = [i for i in li if i %2 != 0]\n",
    "\n",
    "print(odd_list)"
   ]
  },
  {
   "cell_type": "code",
   "execution_count": 13,
   "metadata": {},
   "outputs": [
    {
     "name": "stdout",
     "output_type": "stream",
     "text": [
      "[5, 7, 97, 77, 23, 73, 61]\n"
     ]
    }
   ],
   "source": [
    "# iii. Use lambda function with filter\n",
    "\n",
    "li = [5, 7, 22, 97, 54, 62, 77, 23, 73, 61]\n",
    "\n",
    "odd_lambda = list(filter(lambda x : True if x % 2 != 0 else False,li))\n",
    "\n",
    "print(odd_lambda)"
   ]
  },
  {
   "cell_type": "raw",
   "metadata": {},
   "source": [
    "Q10: Write a UDF to return the descriptives [sum, count, min, mean, max] for a list of n number of input \n",
    "    numbers."
   ]
  },
  {
   "cell_type": "code",
   "execution_count": 8,
   "metadata": {},
   "outputs": [
    {
     "name": "stdout",
     "output_type": "stream",
     "text": [
      "sum : 618, count : 13, min : 11, mean : 47.53846153846154, max : 99\n"
     ]
    }
   ],
   "source": [
    "def my_ops(L):\n",
    "    s = 0\n",
    "    c = 0\n",
    "    Min = 0\n",
    "    Max = 0\n",
    "    for i in L:\n",
    "        s = s + i\n",
    "        c = c + 1\n",
    "        Min = min(L)\n",
    "        Max = max(L)\n",
    "    Mean = s/c\n",
    "    return (print(f'sum : {s}, count : {c}, min : {Min}, mean : {Mean}, max : {Max}'))\n",
    "List =[12,11,45,65,22,13,74,88,99,51,42,55,41]\n",
    "\n",
    "my_ops(List)"
   ]
  },
  {
   "cell_type": "raw",
   "metadata": {},
   "source": [
    "Q11: Write an udf to calculate the area of different shapes\n",
    "\n",
    "Take shape and dimensions as arguments to udf as follows : \n",
    "\n",
    "1. square which has side\n",
    "2. rectangle which has length and width\n",
    "3. circle which has radius\n",
    "\n",
    "The shape should be a positional argument and it's dimensions are taken as kwargs\n",
    "\n",
    "Perform proper validation for the user inputs and then calculate area.\n",
    "\n",
    "E.g. if shape is square, ensure kwargs has \"side\" and if so, then you may return the area, else display appropriate error message like \"Please enter 'side' for a square\""
   ]
  },
  {
   "cell_type": "code",
   "execution_count": 20,
   "metadata": {},
   "outputs": [
    {
     "name": "stdout",
     "output_type": "stream",
     "text": [
      "Area of  Square : 441\n",
      "Circumference of Cirle is : 12232.607810841793\n",
      "Area of Rectangle is : 250\n"
     ]
    }
   ],
   "source": [
    "import math as m\n",
    "\n",
    "def area(shape,**kwargs):\n",
    "    if shape == 'square':\n",
    "        Square = kwargs['side']**2\n",
    "        return print('Area of  Square :',Square)\n",
    "        \n",
    "    elif shape == 'circle':\n",
    "        Circle = m.pi*kwargs['radius']*kwargs['radius']\n",
    "        return print('Circumference of Cirle is :',Circle)\n",
    "\n",
    "    elif shape == 'rectangle':\n",
    "        Rectangle = kwargs['length']*kwargs['breadth']\n",
    "        return print('Area of Rectangle is :',Rectangle)\n",
    "   \n",
    "    else:\n",
    "        print('Please enter appropriate values and keys')\n",
    "\n",
    "area('square',side = 21)\n",
    "area('circle',radius = 62.4)\n",
    "area('rectangle',length = 25, breadth = 10)"
   ]
  },
  {
   "cell_type": "raw",
   "metadata": {},
   "source": [
    "Q12: Write a UDF to reconcile the values within two lists.\n",
    "    l1 = ['January', 'February', 'March', 'May', 'June', 'September', 'December']\n",
    "    l2 = ['January', 'February', 'April', 'June', 'October', 'December']\n",
    "\n",
    "Hint:\n",
    "-----\n",
    "def func(l1, l2):\n",
    "    your code here...\n",
    "    \n",
    "Output:\n",
    "{'Matched': ['January', 'February', 'June', 'December'],\n",
    "    'Only in l1': ['March', 'May', 'September'],\n",
    "        'Only in l2': ['April', 'October']}"
   ]
  },
  {
   "cell_type": "code",
   "execution_count": 48,
   "metadata": {},
   "outputs": [
    {
     "name": "stdout",
     "output_type": "stream",
     "text": [
      "Matched :['January', 'December', 'February', 'June'],\n",
      " Only in l1 : ['March', 'May', 'September'] \n",
      "  Only in l2 : ['April', 'October'] \n"
     ]
    }
   ],
   "source": [
    "# Defining a function func\n",
    "def func(l1,l2):\n",
    "    \n",
    "    #Converting the lists into sets\n",
    "    L1 = set(l1)\n",
    "    L2 = set(l2)\n",
    "    \n",
    "    # To find the Intersection of two sets and converting back to list\n",
    "    match = L1 & L2\n",
    "    matched = list(match)\n",
    "    \n",
    "    # To find the Difference of two sets and converting back to list\n",
    "    OnlyL1 = L1 - L2\n",
    "    Only_L1 = list(OnlyL1)\n",
    "    \n",
    "    # To find the Difference of two sets and converting back to list\n",
    "    OnlyL2 = L2 - L1\n",
    "    Only_L2 = list(OnlyL2)\n",
    "    \n",
    "    print(f'Matched :{matched},\\n Only in l1 : {Only_L1} \\n  Only in l2 : {Only_L2} ')\n",
    "    \n",
    "l1 = ['January', 'February', 'March', 'May', 'June', 'September', 'December']\n",
    "l2 = ['January', 'February', 'April', 'June', 'October', 'December']\n",
    "\n",
    "#Calling the function\n",
    "func(l1,l2)"
   ]
  },
  {
   "cell_type": "raw",
   "metadata": {
    "collapsed": true
   },
   "source": [
    "Q13: write a UDF to check if a number is prime or not."
   ]
  },
  {
   "cell_type": "code",
   "execution_count": 28,
   "metadata": {},
   "outputs": [
    {
     "name": "stdout",
     "output_type": "stream",
     "text": [
      "Entered Number is a Not a Prime\n",
      "Entered Number is a Prime\n"
     ]
    }
   ],
   "source": [
    "def Prime(x):\n",
    "    if x > 1:\n",
    "        for i in range(2,x):\n",
    "            if (x % i)==0:\n",
    "                return print('Entered Number is a Not a Prime')\n",
    "            return print('Entered Number is a Prime')\n",
    "        else:\n",
    "            print('Invalid Number!')\n",
    "\n",
    "Prime(10)\n",
    "Prime(43)"
   ]
  },
  {
   "cell_type": "raw",
   "metadata": {
    "collapsed": true
   },
   "source": [
    "Q14. Write a program which can compute the factorial of a given numbers. \n",
    "#   The results should be printed in a comma-separated sequence on a single line. \n",
    "# input() function can be used for getting user(console) input\n",
    "\n",
    "\n",
    "#Suppose the input is supplied to the program:  8  \n",
    "#Then, the output should be:  40320 \n",
    "#Hints: In case of input data being supplied to the question, it should be assumed to be a console input. \n"
   ]
  },
  {
   "cell_type": "code",
   "execution_count": 21,
   "metadata": {},
   "outputs": [
    {
     "name": "stdout",
     "output_type": "stream",
     "text": [
      "Enter the Number to find its Factorial :5\n",
      "Given Number :  5\n",
      "Factorial of given numbers are : [1, 2, 6, 24, 120]\n"
     ]
    }
   ],
   "source": [
    "n = int(input('Enter the Number to find its Factorial :'))\n",
    "\n",
    "f = 1\n",
    "result = []\n",
    "\n",
    "for i in range(1,n+1):\n",
    "    f = f * i\n",
    "    result.append(f)\n",
    "print('Given Number : ',n)\n",
    "print(f'Factorial of given numbers are : {result}')"
   ]
  },
  {
   "cell_type": "raw",
   "metadata": {
    "collapsed": true
   },
   "source": [
    "Q15. With a given integral number n, write a program to generate a dictionary that contains (i, i*i) such that is an integral number between 1 and n (both included). and then the program should print the dictionary.\n",
    "\n",
    "#Suppose the following input is supplied to the program: 8\n",
    "#Then, the output should be: {1: 1, 2: 4, 3: 9, 4: 16, 5: 25, 6: 36, 7: 49, 8: 64}\n",
    "#Hints: In case of input data being supplied to the question, it should be assumed to be a console input. Consider using dict()\n",
    "\n"
   ]
  },
  {
   "cell_type": "code",
   "execution_count": 18,
   "metadata": {},
   "outputs": [
    {
     "name": "stdout",
     "output_type": "stream",
     "text": [
      "Given Range :  8\n"
     ]
    },
    {
     "data": {
      "text/plain": [
       "{1: 1, 2: 4, 3: 9, 4: 16, 5: 25, 6: 36, 7: 49, 8: 64}"
      ]
     },
     "execution_count": 18,
     "metadata": {},
     "output_type": "execute_result"
    }
   ],
   "source": [
    "# Taking the range as input\n",
    "Q15 = int(input('Enter the Range : '))\n",
    "\n",
    "# Using dictionary\n",
    "Dict_Q15 = {x : x**2 for x in range(1,Q15+1)}\n",
    "\n",
    "# Printing the final result\n",
    "Dict_Q15"
   ]
  },
  {
   "cell_type": "raw",
   "metadata": {
    "collapsed": true
   },
   "source": [
    "Q16. Write a program which accepts a sequence of comma-separated numbers from console and generate a list and a tuple which contains every number.\n",
    "#Suppose the following input is supplied to the program: 34,67,55,33,12,98\n",
    "    #Then, the output should be: ['34', '67', '55', '33', '12', '98'] ('34', '67', '55', '33', '12', '98')\n",
    "\n",
    "#Hints: In case of input data being supplied to the question, it should be assumed to be a console input. you may use tuple() method to convert list to tuple\n"
   ]
  },
  {
   "cell_type": "code",
   "execution_count": 22,
   "metadata": {},
   "outputs": [
    {
     "name": "stdout",
     "output_type": "stream",
     "text": [
      "Enter the numbers to be appending into tuple : 34,67,55,33,12,98\n",
      "['34', '67', '55', '33', '12', '98'] ('34', '67', '55', '33', '12', '98')\n"
     ]
    }
   ],
   "source": [
    "#taking the numbers and saving them as list\n",
    "List = list(input('Enter the numbers to be appending into tuple : ').split(','))\n",
    "\n",
    "#Creating a new tuple by converting the list into tuple\n",
    "Tuple = tuple(List)\n",
    "\n",
    "#Printing both the list and tuple\n",
    "print(List,Tuple)"
   ]
  },
  {
   "cell_type": "raw",
   "metadata": {
    "collapsed": true
   },
   "source": [
    "Q17. Write a program that accepts a comma separated sequence of words as input and \n",
    "# prints the words in a comma-separated sequence after sorting them alphabetically.\n",
    "\n",
    "# Suppose the following input is supplied to the program: without,hello,bag,world\n",
    "# Then, the output should be: bag,hello,without,world\n",
    "\n",
    "#Hints: In case of input data being supplied to the question, it should be assumed to be a console input.\n"
   ]
  },
  {
   "cell_type": "code",
   "execution_count": 15,
   "metadata": {},
   "outputs": [
    {
     "name": "stdout",
     "output_type": "stream",
     "text": [
      "Given Input :  without,hello,bag,world\n",
      "bag,hello,without,world\n"
     ]
    }
   ],
   "source": [
    "# Taking input from the user and saving into a List Str\n",
    "Str = input('Enter words serperated with comas :').split(',')\n",
    "\n",
    "#Sorting the List\n",
    "Str.sort()\n",
    "\n",
    "#Printing the Result\n",
    "print(','.join(Str))"
   ]
  },
  {
   "cell_type": "raw",
   "metadata": {
    "collapsed": true
   },
   "source": [
    "Q18. Write a program that accepts a sequence of whitespace separated words \n",
    "# as input and prints the words after removing all duplicate words and sorting them alphanumerically.\n",
    "# Suppose the following input is supplied to the program: hello world and practice makes perfect and hello world again\n",
    "# Then, the output should be: again and hello makes perfect practice world\n",
    "\n",
    "#Hints: In case of input data being supplied to the question, it should be assumed to be a console input.\n",
    "#We use set container to remove duplicated data automatically and then use sorted() to sort the data.\n"
   ]
  },
  {
   "cell_type": "code",
   "execution_count": 11,
   "metadata": {},
   "outputs": [
    {
     "name": "stdout",
     "output_type": "stream",
     "text": [
      "Given Input :  hello world and practice makes perfect and hello world again\n",
      "again and hello makes perfect practice world\n"
     ]
    }
   ],
   "source": [
    "# Taking the input as default string and saving in Q18\n",
    "Q18 = input(\"Enter some words with spaces : \")\n",
    "\n",
    "# we are converting the string into a set by spliting with spaces and sorting it and saving the result in Q\n",
    "Q = sorted(set(Q18.split(\" \")))\n",
    "\n",
    "# Printing the result with spaces and one single sentence\n",
    "print(\" \".join(Q))"
   ]
  },
  {
   "cell_type": "raw",
   "metadata": {
    "collapsed": true
   },
   "source": [
    "Q19. Write a program that accepts a sentence and calculate the number of upper case \n",
    "# letters and lower case letters.\n",
    "#Suppose the following input is supplied to the program: Hello world!\n",
    "#Then, the output should be: UPPER CASE 1 LOWER CASE 9\n",
    "\n",
    "#Hints: In case of input data being supplied to the question, it should be assumed to be a console input.\n"
   ]
  },
  {
   "cell_type": "code",
   "execution_count": 10,
   "metadata": {},
   "outputs": [
    {
     "name": "stdout",
     "output_type": "stream",
     "text": [
      "Given Input :  Hello World! Welocome to Analytix Labs!\n",
      "UPPER CASE 5 LOWER CASE 27\n"
     ]
    }
   ],
   "source": [
    "# Taking the string as input in Str\n",
    "Str = input('Enter the Sentence in both upper case and lower case :')\n",
    "\n",
    "# Making the inital count as 0\n",
    "Upper = 0\n",
    "Lower = 0\n",
    "\n",
    "# Using for loop to find if the letter is upper case or lower case\n",
    "for i in Str:\n",
    "    if i.isalpha() == False:\n",
    "        continue\n",
    "    if i.isupper():\n",
    "        Upper = Upper + 1\n",
    "    else:\n",
    "        Lower = Lower + 1\n",
    "# Printing the result count        \n",
    "print(f'UPPER CASE {Upper} LOWER CASE {Lower}')"
   ]
  },
  {
   "cell_type": "raw",
   "metadata": {
    "collapsed": true
   },
   "source": [
    "Q20. Write a program that takes a string and returns reversed string. i.e. if input is \"abcd123\" output should be \"321dcba\""
   ]
  },
  {
   "cell_type": "code",
   "execution_count": 12,
   "metadata": {},
   "outputs": [
    {
     "name": "stdout",
     "output_type": "stream",
     "text": [
      "Enter the string which it needs to be reversed : abcd123\n"
     ]
    },
    {
     "data": {
      "text/plain": [
       "'321dcba'"
      ]
     },
     "execution_count": 12,
     "metadata": {},
     "output_type": "execute_result"
    }
   ],
   "source": [
    "# Taking input string as x\n",
    "x = input('Enter the string which it needs to be reversed : ')\n",
    "\n",
    "#Using Slicers to print the string in reverse\n",
    "x[::-1]"
   ]
  },
  {
   "cell_type": "code",
   "execution_count": null,
   "metadata": {},
   "outputs": [],
   "source": []
  }
 ],
 "metadata": {
  "kernelspec": {
   "display_name": "Python 3",
   "language": "python",
   "name": "python3"
  },
  "language_info": {
   "codemirror_mode": {
    "name": "ipython",
    "version": 3
   },
   "file_extension": ".py",
   "mimetype": "text/x-python",
   "name": "python",
   "nbconvert_exporter": "python",
   "pygments_lexer": "ipython3",
   "version": "3.8.8"
  },
  "varInspector": {
   "cols": {
    "lenName": 16,
    "lenType": 16,
    "lenVar": 40
   },
   "kernels_config": {
    "python": {
     "delete_cmd_postfix": "",
     "delete_cmd_prefix": "del ",
     "library": "var_list.py",
     "varRefreshCmd": "print(var_dic_list())"
    },
    "r": {
     "delete_cmd_postfix": ") ",
     "delete_cmd_prefix": "rm(",
     "library": "var_list.r",
     "varRefreshCmd": "cat(var_dic_list()) "
    }
   },
   "types_to_exclude": [
    "module",
    "function",
    "builtin_function_or_method",
    "instance",
    "_Feature"
   ],
   "window_display": false
  }
 },
 "nbformat": 4,
 "nbformat_minor": 2
}
